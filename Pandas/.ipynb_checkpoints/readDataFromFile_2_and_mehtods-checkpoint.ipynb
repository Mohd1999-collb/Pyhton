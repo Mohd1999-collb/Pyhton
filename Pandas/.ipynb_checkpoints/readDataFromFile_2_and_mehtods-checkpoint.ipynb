{
 "cells": [
  {
   "cell_type": "code",
   "execution_count": 3,
   "id": "f962295a-96f9-49b1-8576-62a4929f6b12",
   "metadata": {},
   "outputs": [
    {
     "name": "stdout",
     "output_type": "stream",
     "text": [
      "   Emp Id First Name  Last Name   Age   Salary   Location Employee Type  \\\n",
      "0    1011        Ram      Kumar  15.0  10000.0      Delhi       Private   \n",
      "1    1012      Shyam        Das  20.0  15000.0    Gurgaon    Government   \n",
      "2    1013      Mohan      Verma   NaN  25000.0        NaN       Private   \n",
      "3    1014      Kajal      Yadav   NaN   8000.0     Mumbai       Private   \n",
      "4    1015      Geeta     Bashra  23.0  10000.0  New Delhi           NaN   \n",
      "5    1016      Megha     Mishra   NaN      NaN  Haidrabad           NaN   \n",
      "6    1017       Golu    Chandra  18.0  20000.0        NaN    Government   \n",
      "7    1018     Aastha     Shukla  17.0  30000.0       Agra           NaN   \n",
      "8    1019      Kallu  Choudhary   NaN    500.0      Surat       Private   \n",
      "9    1010      Rahul     Panday  28.0  23000.0  Ahmadabad           NaN   \n",
      "\n",
      "  Is Working  Bonus %  \n",
      "0        Yes       20  \n",
      "1         No       10  \n",
      "2        NaN       15  \n",
      "3        Yes        2  \n",
      "4         No        4  \n",
      "5        NaN        0  \n",
      "6        Yes        9  \n",
      "7         No        0  \n",
      "8        NaN       25  \n",
      "9        Yes        0  \n"
     ]
    }
   ],
   "source": [
    "import pandas as pd\n",
    "\n",
    "# Read data from Excel file\n",
    "data = pd.read_excel(\"C:/Users/lenovo/Desktop/AccioJob/Assesment/Python/Pandas/ESD.xlsx\")\n",
    "\n",
    "# Read data from Csv file\n",
    "# data = pd.read_csv(\"C:/Users/lenovo/Desktop/AccioJob/Assesment/Python/Pandas/user_behavior_dataset.csv\")\n",
    "\n",
    "print(data) "
   ]
  },
  {
   "cell_type": "code",
   "execution_count": 210,
   "id": "0025c5d7-70a6-4049-960a-909d225289ff",
   "metadata": {},
   "outputs": [],
   "source": [
    "# Print the gender column\n",
    "print(data[\"Salary\"])"
   ]
  },
  {
   "cell_type": "code",
   "execution_count": 2,
   "id": "4ba56f8b-40c0-47c2-a184-0477e9723713",
   "metadata": {},
   "outputs": [],
   "source": [
    "# Exploring data in pandas\n",
    "\n",
    "# Describe the data set\n",
    "print(data.describe())"
   ]
  },
  {
   "cell_type": "code",
   "execution_count": 4,
   "id": "695fda2f-eebc-4723-a1d6-b44234d9cbe0",
   "metadata": {},
   "outputs": [],
   "source": [
    "# Give the information about the data set\n",
    "print(data.info())"
   ]
  },
  {
   "cell_type": "code",
   "execution_count": 211,
   "id": "986c1f1c-51f0-4f04-aa27-18665dab1acd",
   "metadata": {},
   "outputs": [],
   "source": [
    "# If any value of dataset is null then its print the True otherwise its print False\n",
    "print(data.isnull())"
   ]
  },
  {
   "cell_type": "code",
   "execution_count": 212,
   "id": "761a33bc-e6bc-4817-94e6-291d3bdefcbe",
   "metadata": {},
   "outputs": [],
   "source": [
    "# Handling duplicates values in pandas\n",
    "\n",
    "# If any value of dataset is duplicated then its print the True otherwise its print False and we check the duplicates values on primary key's\n",
    "print(data[\"User ID\"].duplicated())"
   ]
  },
  {
   "cell_type": "code",
   "execution_count": 213,
   "id": "1b516322-10a9-4e4b-8df8-4ea43852ec17",
   "metadata": {},
   "outputs": [],
   "source": [
    "# Drop the rows according to given key. if any cell operating system record is duplicate or NaN then drop that rows\n",
    "print(data.drop_duplicates(\"Operating System\"))"
   ]
  },
  {
   "cell_type": "code",
   "execution_count": 214,
   "id": "cdc7b4b9-2084-4bf0-889b-79e1e6377236",
   "metadata": {},
   "outputs": [],
   "source": [
    "#  Working with missing data in Pandas\n",
    "\n",
    "# Drop all the rows whose any cell value is Nan or null\n",
    "print(data.dropna())\n"
   ]
  },
  {
   "cell_type": "code",
   "execution_count": 215,
   "id": "c2bb2966-e55e-4a24-9ffd-5816e01718b4",
   "metadata": {},
   "outputs": [],
   "source": [
    "import numpy as np\n",
    "\n",
    "# Raplace the missing value or NaN value\n",
    "\n",
    "age_mean_value = np.mean(data[\"Age\"])\n",
    "salary_mean_value = np.mean(data[\"Salary\"])\n",
    "\n",
    "# For replacing numeric value, we fill the mean value of that column\n",
    "data[\"Age\"] = data[\"Age\"].replace(np.nan, age_mean_value)\n",
    "data[\"Salary\"] = data[\"Salary\"].replace(np.nan, salary_mean_value)\n",
    "\n",
    "# For replacing string value, we fill the bfill/ffill (backwardfill/forwardfill) value of that column\n",
    "data[\"Location\"] = data[\"Location\"].ffill()\n",
    "data[\"Employee Type\"] = data[\"Employee Type\"].bfill()\n",
    "data[\"Is Working\"] = data[\"Is Working\"].ffill()\n",
    "\n",
    "# Save the modified DataFrame back to an Excel file\n",
    "# data.to_excel('your_modified_excel_file.xlsx', index=False)\n",
    "\n",
    "print(data)"
   ]
  },
  {
   "cell_type": "code",
   "execution_count": 224,
   "id": "6cf63eec-e12d-4c88-bbdf-f5967b6a6895",
   "metadata": {},
   "outputs": [],
   "source": [
    "# Column transformation in file using pandas\n",
    "\n",
    "# Create the column from existing column\n",
    "data.loc[data[\"Bonus %\"] == 0, \"Get Bonus\"] = \"No Bonus\"\n",
    "data.loc[data[\"Bonus %\"] > 0, \"Get Bonus\"] = (data[\"Salary\"]/100)*20\n",
    "\n",
    "data[\"Full Name\"] = data[\"First Name\"] + \" \" + data[\"Last Name\"]\n",
    "\n",
    "# print(data)"
   ]
  },
  {
   "cell_type": "code",
   "execution_count": 38,
   "id": "92620d7f-316d-42fa-9e79-abf3f0b4a009",
   "metadata": {},
   "outputs": [
    {
     "name": "stdout",
     "output_type": "stream",
     "text": [
      "     Points             Rebounds    \n",
      "        sum  mean count      min max\n",
      "Team                                \n",
      "A        25  12.5     2        5   7\n",
      "B        20  10.0     2        5   6\n",
      "C        23  11.5     2        7   8\n"
     ]
    }
   ],
   "source": [
    "# Group by in Pandas\n",
    "\n",
    "data = {\n",
    "    'Team': ['A', 'A', 'B', 'B', 'C', 'C'],\n",
    "    'Player': ['John', 'Mahak', 'Reeta', 'Roshni', 'Geeta', 'Henry'],\n",
    "    'Gender' : [\"Male\", \"Female\", \"Female\", \"Female\", \"Female\", \"Male\"],\n",
    "    'Points': [10, 15, 8, 12, 9, 14],\n",
    "    'Rebounds': [5, 7, 6, 5, 8, 7]\n",
    "}\n",
    "\n",
    "df = pd.DataFrame(data)\n",
    "\n",
    "# Group by 'Team' and calculate the sum of 'Points'\n",
    "# grouped = df.groupby(['Team'])['Points'].count()\n",
    "\n",
    "# Group by with multiple column\n",
    "# grouped = df.groupby(['Team', 'Gender'])['Points'].sum()\n",
    "\n",
    "# Applying multiple aggregate functions: sum, mean ana count\n",
    "grouped = df.groupby('Team').agg({\n",
    "    'Points': ['sum', 'mean', 'count'],\n",
    "    'Rebounds': ['min', 'max']\n",
    "})\n",
    "\n",
    "print(grouped)"
   ]
  },
  {
   "cell_type": "code",
   "execution_count": 64,
   "id": "4b5fa389-87ac-4c7b-bccf-0f2d06048b14",
   "metadata": {},
   "outputs": [
    {
     "name": "stdout",
     "output_type": "stream",
     "text": [
      "       Name  Score\n",
      "ID                \n",
      "1     Alice   85.0\n",
      "2       Bob   90.0\n",
      "3   Charlie   95.0\n",
      "4     David    NaN\n",
      "5       NaN  100.0\n"
     ]
    }
   ],
   "source": [
    "# Merge, join and concatinate in pandas\n",
    "\n",
    "import pandas as pd\n",
    "\n",
    "# Sample DataFrames\n",
    "df1 = pd.DataFrame({\n",
    "    'ID': [1, 2, 3, 4],\n",
    "    'Name': ['Alice', 'Bob', 'Charlie', 'David']\n",
    "})\n",
    "\n",
    "df2 = pd.DataFrame({\n",
    "    'ID': [1, 2, 3, 5],\n",
    "    'Score': [85, 90, 95, 100]\n",
    "})\n",
    "\n",
    "# -----------------------------------1. Merge Data Frame----------------------------------------\n",
    "                #Types of Joins in merge():\n",
    "'''  \n",
    "   1. how='inner': Default; only includes rows with matching keys.\n",
    "   2. how='left': Includes all rows from the left DataFrame and matching rows from the right.\n",
    "   3. how='right': Includes all rows from the right DataFrame and matching rows from the left.\n",
    "   4. how='outer': Includes all rows from both DataFrames, filling NaN where necessary.\n",
    "'''\n",
    "\n",
    "# Merge based on the 'ID' column here default join is inner join\n",
    "merged_df = pd.merge(left = df1, right = df2, on='ID') \n",
    "\n",
    "# Left join\n",
    "left_merge = pd.merge(left = df1, right = df2, on='ID', how='left')\n",
    "\n",
    "# Right join\n",
    "right_merge = pd.merge(left = df1, right = df2, on='ID', how='right')\n",
    "\n",
    "# Left join\n",
    "outer_merge = pd.merge(left = df1, right = df2, on='ID', how='outer')\n",
    "\n",
    "\n",
    "# Sample DataFrames with 'ID' as the index\n",
    "df1.set_index('ID', inplace=True)\n",
    "df2.set_index('ID', inplace=True)\n",
    "\n",
    "\n",
    "# -----------------------------------2. Join Data Frame----------------------------------------\n",
    "# Join DataFrames using the index\n",
    "joined_df = df1.join(df2, how='left')\n",
    "\n",
    "# -----------------------------------3. Concatenate Data Frame----------------------------------------\n",
    "\n",
    "# Concatenate along rows (vertical concatenation)\n",
    "'''\n",
    "    1. axis=0: Concatenate along rows (default).\n",
    "    2. axis=1: Concatenate along columns.\n",
    "'''\n",
    "concat_df = pd.concat([df1, df2],axis=1)\n",
    "\n",
    "print(concat_df)\n"
   ]
  },
  {
   "cell_type": "code",
   "execution_count": 103,
   "id": "2de94576-f3be-411a-92af-65ca8aeebf27",
   "metadata": {},
   "outputs": [
    {
     "name": "stdout",
     "output_type": "stream",
     "text": [
      "      Name        House   Color\n",
      "0      Ram  House Color     Red\n",
      "1     John  House Color   Black\n",
      "2    Mohan  House Color    Blue\n",
      "3    Geeta  House Color   Green\n",
      "4     Golu  House Color  Orange\n",
      "5    Alice  House Color   Khaki\n",
      "6      Bob  House Color    Grey\n",
      "7   Charli  House Color   White\n",
      "8    Devid  House Color    Blue\n",
      "9   Warner  House Color  Yellow\n",
      "10    John  House Color     Red\n",
      "11     Ram        Sales     250\n",
      "12    John        Sales     200\n",
      "13   Mohan        Sales     300\n",
      "14   Geeta        Sales     220\n",
      "15    Golu        Sales     100\n",
      "16   Alice        Sales     500\n",
      "17     Bob        Sales    1000\n",
      "18  Charli        Sales     900\n",
      "19   Devid        Sales    1900\n",
      "20  Warner        Sales    4500\n",
      "21    John        Sales     210\n"
     ]
    }
   ],
   "source": [
    "# Pivoting and Melting data frame in pandas\n",
    "\n",
    "import pandas as pd\n",
    "\n",
    "data = {\n",
    "    \"Key\" : [1, 2, 3, 4, 5, 6, 7, 8, 9, 10, 11],\n",
    "    \"Name\" : [\"Ram\", \"John\",  \"Mohan\", 'Geeta',  \"Golu\", \"Alice\", \"Bob\", \"Charli\", \"Devid\", \"Warner\", \"John\"],\n",
    "    'Sales': [250, 200, 300, 220, 100, 500, 1000, 900, 1900, 4500, 210],\n",
    "    \"House Color\" : [\"Red\", \"Black\", \"Blue\", \"Green\", \"Orange\", \"Khaki\", \"Grey\", \"White\", \"Blue\", \"Yellow\", \"Red\"]\n",
    "}\n",
    "\n",
    "df = pd.DataFrame(data)\n",
    "\n",
    "# -----------------------------------1. Pivoting Data Frame----------------------------------------\n",
    "\n",
    "# You can pivot the data so that the Key become index, Name become columns, and the sales and house color become values.\n",
    "pivot_df = df.pivot(index='Key', columns='Name', values= ['Sales', 'House Color'])\n",
    "\n",
    "# -----------------------------------2. Melting Data Frame------------------------------------------\n",
    "\n",
    "melted_df = pd.melt(df, id_vars=['Name'], value_vars=[\"House Color\", \"Sales\"],\n",
    "                    var_name='House', value_name='Color')\n",
    "print(melted_df)"
   ]
  },
  {
   "cell_type": "code",
   "execution_count": 101,
   "id": "3af7448e-c0ec-452b-888b-0e1a4615e37d",
   "metadata": {},
   "outputs": [
    {
     "name": "stdout",
     "output_type": "stream",
     "text": [
      "    Key    Name  Sales House Color\n",
      "0     1     Ram    250         Red\n",
      "1     2    John    200       Black\n",
      "2     3   Mohan    300        Blue\n",
      "3     4   Geeta    220       Green\n",
      "4     5    Golu    100      Orange\n",
      "5     6   Alice    500       Khaki\n",
      "6     7     Bob   1000        Grey\n",
      "7     8  Charli    900       White\n",
      "8     9   Devid   1900        Blue\n",
      "9    10  Warner   4500      Yellow\n",
      "10   11    John    210         Red\n"
     ]
    }
   ],
   "source": [
    "print(df)"
   ]
  },
  {
   "cell_type": "code",
   "execution_count": 141,
   "id": "e9e66b99-528c-442c-a987-a623f697392b",
   "metadata": {},
   "outputs": [
    {
     "name": "stdout",
     "output_type": "stream",
     "text": [
      "     A          B      \n",
      "  self other self other\n",
      "0    1     1    4     4\n",
      "1    2     2    5     5\n",
      "2    3     4    6     6\n",
      "3   10    20    7     9\n",
      "      A          B      \n",
      "   self other self other\n",
      "0   NaN   NaN  NaN   NaN\n",
      "1   NaN   NaN  NaN   NaN\n",
      "2   3.0   4.0  NaN   NaN\n",
      "3  10.0  20.0  7.0   9.0\n",
      "     A          B      \n",
      "  self other self other\n",
      "2    3     4    6     6\n",
      "3   10    20    7     9\n"
     ]
    }
   ],
   "source": [
    "# Compare data frame in pandas\n",
    "\n",
    "import pandas as pd\n",
    "\n",
    "# Sample DataFrames\n",
    "df1 = pd.DataFrame({'A': [1, 2, 3, 10], 'B': [4, 5, 6, 7]})\n",
    "df2 = pd.DataFrame({'A': [1, 2, 4, 20], 'B': [4, 5, 6, 9]})\n",
    "\n",
    "# Create the copy data frame\n",
    "df3 = df1.copy()\n",
    "\n",
    "# Element-wise comparison\n",
    "comparison = df1 == df2\n",
    "\n",
    "# Comparing two DataFrames\n",
    "\n",
    "''' self: Refers to the values in df1.\n",
    "    other: Refers to the values in df2.\n",
    "'''\n",
    "result = df1.compare(df2, align_axis=0) # By default align_axis = 1\n",
    "\n",
    "'''\n",
    "    With keep_shape=True and keep_equal=True:\n",
    "    keep_shape=True: Keeps the original shape of the DataFrame and marks the equal values with NaN.\n",
    "    keep_equal=True: Shows the equal values as well as the differences.\n",
    "'''\n",
    "\n",
    "keep_shape_result = df1.compare(df2, keep_shape=True)\n",
    "keep_equal_result = df1.compare(df2, keep_equal=True)\n",
    "result = df1.compare(df2, keep_shape=True, keep_equal=True)\n",
    "print(result)\n",
    "print(keep_shape_result)\n",
    "print(keep_equal_result)\n"
   ]
  },
  {
   "cell_type": "code",
   "execution_count": null,
   "id": "b053c90a-e2ea-4709-8830-4667b9221dca",
   "metadata": {},
   "outputs": [],
   "source": []
  }
 ],
 "metadata": {
  "kernelspec": {
   "display_name": "Python 3 (ipykernel)",
   "language": "python",
   "name": "python3"
  },
  "language_info": {
   "codemirror_mode": {
    "name": "ipython",
    "version": 3
   },
   "file_extension": ".py",
   "mimetype": "text/x-python",
   "name": "python",
   "nbconvert_exporter": "python",
   "pygments_lexer": "ipython3",
   "version": "3.12.6"
  }
 },
 "nbformat": 4,
 "nbformat_minor": 5
}
