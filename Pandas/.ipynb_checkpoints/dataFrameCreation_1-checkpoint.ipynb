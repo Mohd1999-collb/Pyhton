{
 "cells": [
  {
   "cell_type": "code",
   "execution_count": 12,
   "id": "aca1f3af-35d9-42b9-b0b0-18a3bc5b570a",
   "metadata": {},
   "outputs": [
    {
     "name": "stdout",
     "output_type": "stream",
     "text": [
      "      Name  Age         City\n",
      "0     John   29     New York\n",
      "1     Anna   35  Los Angeles\n",
      "2    Peter   30        Paris\n",
      "3    Linda   25        Tokyo\n",
      "4    Emily   40       Berlin\n",
      "5  Michael   32       London\n",
      "6    David   38       Madrid\n"
     ]
    }
   ],
   "source": [
    "import pandas as pd\n",
    "\n",
    "data = {\n",
    "    'Name': ['John', 'Anna', 'Peter', 'Linda', 'Emily', 'Michael', 'David' ],\n",
    "    'Age': [29, 35, 30, 25, 40, 32, 38],\n",
    "    'City': ['New York', 'Los Angeles', 'Paris', 'Tokyo', 'Berlin', 'London', 'Madrid' ]\n",
    "}\n",
    "\n",
    "df = pd.DataFrame(data)\n",
    "print(df)"
   ]
  },
  {
   "cell_type": "code",
   "execution_count": null,
   "id": "027833cf-4e17-45ee-9332-7fb86b048c91",
   "metadata": {},
   "outputs": [],
   "source": []
  }
 ],
 "metadata": {
  "kernelspec": {
   "display_name": "Python 3 (ipykernel)",
   "language": "python",
   "name": "python3"
  },
  "language_info": {
   "codemirror_mode": {
    "name": "ipython",
    "version": 3
   },
   "file_extension": ".py",
   "mimetype": "text/x-python",
   "name": "python",
   "nbconvert_exporter": "python",
   "pygments_lexer": "ipython3",
   "version": "3.12.6"
  }
 },
 "nbformat": 4,
 "nbformat_minor": 5
}
